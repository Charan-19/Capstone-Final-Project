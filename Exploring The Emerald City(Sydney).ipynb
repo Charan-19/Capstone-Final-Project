{
    "cells": [
        {
            "metadata": {},
            "cell_type": "markdown",
            "source": "# Exploring The Emerald City(Sydney)"
        },
        {
            "metadata": {},
            "cell_type": "markdown",
            "source": "# Introduction:\n"
        },
        {
            "metadata": {},
            "cell_type": "markdown",
            "source": "## Description And Discussion:"
        },
        {
            "metadata": {},
            "cell_type": "markdown",
            "source": "In this project we are exploring the **sydney** city which is also know as **The Emerald City**. Here we are exploring all venues in this city.\n\nOnce We get the all venues,cluster the venues into different categories.\n\nIt works as a guide for the touristers who are new to the city. Because it will show all the venues like coffee shops,tourist spots,bars,restaurants etc.\n\n\n\n"
        },
        {
            "metadata": {},
            "cell_type": "markdown",
            "source": "## Data Description:"
        },
        {
            "metadata": {},
            "cell_type": "markdown",
            "source": "For this project we are using foursquare api to get the venues.\n\nThe data which we received after calling the foursquare api is in .json format.\n\nHere we need only the venue name,venue type,venue latitude and longtitude data.\n\nOnce we get the data what we need,now we transform it into a dataframe."
        },
        {
            "metadata": {},
            "cell_type": "code",
            "source": "",
            "execution_count": null,
            "outputs": []
        }
    ],
    "metadata": {
        "kernelspec": {
            "name": "python3",
            "display_name": "Python 3.6",
            "language": "python"
        },
        "language_info": {
            "name": "python",
            "version": "3.6.9",
            "mimetype": "text/x-python",
            "codemirror_mode": {
                "name": "ipython",
                "version": 3
            },
            "pygments_lexer": "ipython3",
            "nbconvert_exporter": "python",
            "file_extension": ".py"
        }
    },
    "nbformat": 4,
    "nbformat_minor": 1
}